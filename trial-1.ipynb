{
 "cells": [
  {
   "cell_type": "markdown",
   "id": "b23a0efb",
   "metadata": {},
   "source": [
    "# Project Trials\n"
   ]
  },
  {
   "cell_type": "markdown",
   "id": "723b8171",
   "metadata": {},
   "source": [
    "## speech recognition and analysis using NLP"
   ]
  },
  {
   "cell_type": "markdown",
   "id": "abb7af75",
   "metadata": {},
   "source": [
    "### Installing &Importing speech_recognition package "
   ]
  },
  {
   "cell_type": "code",
   "execution_count": 1,
   "id": "fa05eb2c",
   "metadata": {},
   "outputs": [
    {
     "name": "stdout",
     "output_type": "stream",
     "text": [
      "Requirement already satisfied: SpeechRecognition in c:\\users\\dell\\anaconda3\\lib\\site-packages (3.10.1)\n",
      "Requirement already satisfied: pyaudio in c:\\users\\dell\\anaconda3\\lib\\site-packages (0.2.14)\n",
      "Requirement already satisfied: requests>=2.26.0 in c:\\users\\dell\\anaconda3\\lib\\site-packages (from SpeechRecognition) (2.31.0)\n",
      "Requirement already satisfied: typing-extensions in c:\\users\\dell\\anaconda3\\lib\\site-packages (from SpeechRecognition) (4.7.1)\n",
      "Requirement already satisfied: charset-normalizer<4,>=2 in c:\\users\\dell\\anaconda3\\lib\\site-packages (from requests>=2.26.0->SpeechRecognition) (2.0.4)\n",
      "Requirement already satisfied: idna<4,>=2.5 in c:\\users\\dell\\anaconda3\\lib\\site-packages (from requests>=2.26.0->SpeechRecognition) (3.4)\n",
      "Requirement already satisfied: urllib3<3,>=1.21.1 in c:\\users\\dell\\anaconda3\\lib\\site-packages (from requests>=2.26.0->SpeechRecognition) (1.26.16)\n",
      "Requirement already satisfied: certifi>=2017.4.17 in c:\\users\\dell\\anaconda3\\lib\\site-packages (from requests>=2.26.0->SpeechRecognition) (2023.7.22)\n",
      "Note: you may need to restart the kernel to use updated packages.\n"
     ]
    }
   ],
   "source": [
    "pip install SpeechRecognition pyaudio"
   ]
  },
  {
   "cell_type": "code",
   "execution_count": 94,
   "id": "b8777f29",
   "metadata": {},
   "outputs": [],
   "source": [
    "import speech_recognition as sr\n",
    "import csv\n",
    "import time\n",
    "import matplotlib.pyplot as plt\n",
    "import numpy as np\n",
    "import random"
   ]
  },
  {
   "cell_type": "code",
   "execution_count": 5,
   "id": "c0e86421",
   "metadata": {},
   "outputs": [
    {
     "name": "stdout",
     "output_type": "stream",
     "text": [
      "Please speak something...\n",
      "You said: hi bro how are you\n",
      "Transcription saved to transcription.csv\n"
     ]
    }
   ],
   "source": [
    "def record_and_transcribe():\n",
    "    # Initialize the recognizer\n",
    "    recognizer = sr.Recognizer()\n",
    "\n",
    "    # Record audio using the default microphone\n",
    "    with sr.Microphone() as source:\n",
    "        print(\"Please speak something...\")\n",
    "        audio = recognizer.listen(source, timeout=5)\n",
    "\n",
    "    try:\n",
    "        # Recognize speech using Google Web Speech API\n",
    "        text = recognizer.recognize_google(audio)\n",
    "        print(\"You said: \" + text)\n",
    "        return text\n",
    "    except sr.UnknownValueError:\n",
    "        print(\"Sorry, could not understand audio.\")\n",
    "    except sr.RequestError as e:\n",
    "        print(\"Could not request results from Google Web Speech API; {0}\".format(e))\n",
    "\n",
    "if __name__ == \"__main__\":\n",
    "    text_result = record_and_transcribe()\n",
    "    if text_result:\n",
    "        with open(\"transcription.csv\", \"w\") as file:\n",
    "            file.write(text_result)\n",
    "            print(\"Transcription saved to transcription.csv\")"
   ]
  },
  {
   "cell_type": "code",
   "execution_count": 21,
   "id": "5065740b",
   "metadata": {},
   "outputs": [
    {
     "data": {
      "text/plain": [
       "'C:\\\\Users\\\\Dell\\\\Desktop\\\\Untitled Folder'"
      ]
     },
     "execution_count": 21,
     "metadata": {},
     "output_type": "execute_result"
    }
   ],
   "source": [
    "#file path in local storage\n",
    "import os \n",
    "os.getcwd()"
   ]
  },
  {
   "cell_type": "markdown",
   "id": "7a3b791d",
   "metadata": {},
   "source": [
    "## Reading the Recorded Data"
   ]
  },
  {
   "cell_type": "code",
   "execution_count": 11,
   "id": "95eb5dc2",
   "metadata": {},
   "outputs": [
    {
     "data": {
      "text/html": [
       "<div>\n",
       "<style scoped>\n",
       "    .dataframe tbody tr th:only-of-type {\n",
       "        vertical-align: middle;\n",
       "    }\n",
       "\n",
       "    .dataframe tbody tr th {\n",
       "        vertical-align: top;\n",
       "    }\n",
       "\n",
       "    .dataframe thead th {\n",
       "        text-align: right;\n",
       "    }\n",
       "</style>\n",
       "<table border=\"1\" class=\"dataframe\">\n",
       "  <thead>\n",
       "    <tr style=\"text-align: right;\">\n",
       "      <th></th>\n",
       "      <th>hi bro how are you</th>\n",
       "    </tr>\n",
       "  </thead>\n",
       "  <tbody>\n",
       "  </tbody>\n",
       "</table>\n",
       "</div>"
      ],
      "text/plain": [
       "Empty DataFrame\n",
       "Columns: [hi bro how are you]\n",
       "Index: []"
      ]
     },
     "execution_count": 11,
     "metadata": {},
     "output_type": "execute_result"
    }
   ],
   "source": [
    "import pandas as pd \n",
    "df=pd.read_csv(\"transcription.csv\")\n",
    "df"
   ]
  },
  {
   "cell_type": "markdown",
   "id": "13305de5",
   "metadata": {},
   "source": [
    "## Updating Recorded data into final CSV file for Analysis"
   ]
  },
  {
   "cell_type": "code",
   "execution_count": 14,
   "id": "21f2fed1",
   "metadata": {},
   "outputs": [],
   "source": [
    "df.to_csv(\"final.csv\",mode='a')"
   ]
  },
  {
   "cell_type": "code",
   "execution_count": 33,
   "id": "dbc17c32",
   "metadata": {},
   "outputs": [
    {
     "data": {
      "text/plain": [
       "0    hello my name is Nitin hello my name is Nitin ...\n",
       "1    hello my name is Nitin hello my name is Nitin ...\n",
       "2            hello my dear Nikhil Nikhil Nikhil Nikhil\n",
       "3                                   hi bro how are you\n",
       "4                                   hi bro how are you\n",
       "5                                   hi bro how are you\n",
       "6                                   hi bro how are you\n",
       "Name: 1, dtype: object"
      ]
     },
     "execution_count": 33,
     "metadata": {},
     "output_type": "execute_result"
    }
   ],
   "source": [
    "import pandas as pd\n",
    "df=pd.read_csv(\"final.csv\",header=None)[1]\n",
    "df"
   ]
  },
  {
   "cell_type": "markdown",
   "id": "f77b275e",
   "metadata": {},
   "source": [
    "## Analysing Recorded Data:"
   ]
  },
  {
   "cell_type": "markdown",
   "id": "6cafa753",
   "metadata": {},
   "source": [
    "###  - 1) .Define commonly used words"
   ]
  },
  {
   "cell_type": "code",
   "execution_count": 88,
   "id": "ba13dd8b",
   "metadata": {},
   "outputs": [],
   "source": [
    "common_list=['Nitin','bro','Nikhil','my']"
   ]
  },
  {
   "cell_type": "markdown",
   "id": "5341682f",
   "metadata": {},
   "source": [
    "###  - 2). Count the required words "
   ]
  },
  {
   "cell_type": "code",
   "execution_count": 42,
   "id": "16b6b6ba",
   "metadata": {},
   "outputs": [
    {
     "name": "stdout",
     "output_type": "stream",
     "text": [
      "{'my': 5, 'Nitin': 4, 'Nikhil': 4, 'bro': 4}\n"
     ]
    }
   ],
   "source": [
    "d={}\n",
    "for i in df:\n",
    "    lst=i.split()\n",
    "    for char in lst:\n",
    "        if char in common_list:\n",
    "            if char not in d:\n",
    "                d[char]=1\n",
    "            else:\n",
    "                d[char]+=1\n",
    "print(d)"
   ]
  },
  {
   "cell_type": "code",
   "execution_count": 89,
   "id": "c3638353",
   "metadata": {},
   "outputs": [],
   "source": [
    "var=list(d.keys())\n",
    "val=list(d.values())"
   ]
  },
  {
   "cell_type": "code",
   "execution_count": 92,
   "id": "05df3be5",
   "metadata": {},
   "outputs": [
    {
     "data": {
      "text/plain": [
       "[5, 4, 4, 4]"
      ]
     },
     "execution_count": 92,
     "metadata": {},
     "output_type": "execute_result"
    }
   ],
   "source": [
    "val"
   ]
  },
  {
   "cell_type": "code",
   "execution_count": 93,
   "id": "d41c8404",
   "metadata": {},
   "outputs": [
    {
     "data": {
      "text/plain": [
       "['my', 'Nitin', 'Nikhil', 'bro']"
      ]
     },
     "execution_count": 93,
     "metadata": {},
     "output_type": "execute_result"
    }
   ],
   "source": [
    "var"
   ]
  },
  {
   "cell_type": "markdown",
   "id": "e9510925",
   "metadata": {},
   "source": [
    "### - 3) . Visualizing the counts for further analysis"
   ]
  },
  {
   "cell_type": "code",
   "execution_count": 83,
   "id": "eefeafc9",
   "metadata": {},
   "outputs": [],
   "source": [
    "def addlabels(x,y):\n",
    "    for i in range(len(x)):\n",
    "        plt.text(i,y[i],y[i])"
   ]
  },
  {
   "cell_type": "code",
   "execution_count": 86,
   "id": "49c78d53",
   "metadata": {},
   "outputs": [],
   "source": [
    "color_names = [\n",
    "    'red', 'blue', 'green', 'purple', 'orange', 'cyan', 'magenta', 'yellow',\n",
    "    'brown', 'pink', 'violet', 'indigo', 'lime', 'teal', 'olive', 'maroon',\n",
    "    'navy', 'aqua', 'fuchsia', 'silver', 'gray', 'black', 'white',\n",
    "    # Add more color names as needed\n",
    "]\n",
    "colors=random.sample(color_names,len(var))"
   ]
  },
  {
   "cell_type": "code",
   "execution_count": 87,
   "id": "03a613ab",
   "metadata": {},
   "outputs": [
    {
     "data": {
      "image/png": "[encoded data removed]",
      "text/plain": [
       "<Figure size 640x480 with 1 Axes>"
      ]
     },
     "metadata": {},
     "output_type": "display_data"
    }
   ],
   "source": [
    "plt.bar(var,val,color=colors)\n",
    "addlabels(var,val)\n",
    "plt.xlabel('company')\n",
    "plt.ylabel('Count')\n",
    "plt.show()"
   ]
  },
  {
   "cell_type": "code",
   "execution_count": null,
   "id": "eb4dc123",
   "metadata": {},
   "outputs": [],
   "source": []
  }
 ],
 "metadata": {
  "kernelspec": {
   "display_name": "Python 3 (ipykernel)",
   "language": "python",
   "name": "python3"
  },
  "language_info": {
   "codemirror_mode": {
    "name": "ipython",
    "version": 3
   },
   "file_extension": ".py",
   "mimetype": "text/x-python",
   "name": "python",
   "nbconvert_exporter": "python",
   "pygments_lexer": "ipython3",
   "version": "3.11.5"
  }
 },
 "nbformat": 4,
 "nbformat_minor": 5
}
